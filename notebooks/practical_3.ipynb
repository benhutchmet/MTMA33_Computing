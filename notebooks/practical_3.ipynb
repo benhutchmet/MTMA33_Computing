{
 "cells": [
  {
   "cell_type": "code",
   "execution_count": 1,
   "metadata": {},
   "outputs": [],
   "source": [
    "# Import relevant modules and functions\n",
    "import sys\n",
    "import numpy as np\n",
    "import matplotlib.pyplot as plt\n",
    "import scipy.stats as stats\n",
    "import seaborn as sns"
   ]
  },
  {
   "cell_type": "code",
   "execution_count": 2,
   "metadata": {},
   "outputs": [],
   "source": [
    "# Local imports\n",
    "sys.path.append(\"/workspaces/MTMA33_Computing/scripts\")\n",
    "from practical_3_functions import read_in_data, extract_month, calibrate_data\n"
   ]
  },
  {
   "cell_type": "code",
   "execution_count": 3,
   "metadata": {},
   "outputs": [],
   "source": [
    "# Use np.genfromtxt to read in the data from the file\n",
    "lusaka_data = np.genfromtxt('/workspaces/MTMA33_Computing/data/lusaka_ccd_gauge.txt')"
   ]
  },
  {
   "cell_type": "code",
   "execution_count": 4,
   "metadata": {},
   "outputs": [
    {
     "name": "stdout",
     "output_type": "stream",
     "text": [
      "[ 7.91779435  5.10159266  8.9460817   5.1027738   3.25496712  0.9385691\n",
      "  3.9604769  -3.99008436 10.65872446 -4.47029997]\n"
     ]
    }
   ],
   "source": [
    "# Set up testdata\n",
    "# this generates a random sample of 10 values from a normal distribution with mean 5 and standard deviation 10\n",
    "testdata = np.random.normal(5, 5, 10)\n",
    "print(testdata)"
   ]
  },
  {
   "cell_type": "code",
   "execution_count": 5,
   "metadata": {},
   "outputs": [],
   "source": [
    "# Write a function mymean() which takes as its only input argument \n",
    "# and returns the mean of the data as the output\n",
    "# not allowed to use np.mean() or np.average() in the function\n",
    "def mymean(data):\n",
    "    # calculate the mean of the data\n",
    "    # store the result in a variable called mean\n",
    "    len_data = len(data)\n",
    "    sum_data = 0\n",
    "\n",
    "    # Loop over the data and calculate the sum\n",
    "    for i in range(len_data):\n",
    "        sum_data += data[i]\n",
    "\n",
    "    mean = sum_data / len_data\n",
    "\n",
    "    return mean"
   ]
  },
  {
   "cell_type": "code",
   "execution_count": 6,
   "metadata": {},
   "outputs": [
    {
     "name": "stdout",
     "output_type": "stream",
     "text": [
      "3.7420595762437565\n",
      "3.7420595762437565\n"
     ]
    }
   ],
   "source": [
    "# Test the function mymean() on the testdata\n",
    "print(mymean(testdata))\n",
    "print(np.mean(testdata))"
   ]
  },
  {
   "cell_type": "code",
   "execution_count": 7,
   "metadata": {},
   "outputs": [],
   "source": [
    "# Use the functions in practical_3_functions.py\n",
    "# to write a new function make_monthly_calibration()\n",
    "# which produces a new calibration based on the data for lusaka_data\n",
    "# this fuction returns the coefficients of the calibration: a0 and a1\n",
    "# and takes as input all the years of data, for only one month\n",
    "# where the month can be specified as an input argument\n",
    "# the data files luaska_data has four columns:\n",
    "# year, month, CCD (hours), total monthly rainfall (mm)\n",
    "def make_monthly_calibration(data_path, month):\n",
    "    \"\"\"\n",
    "    Function to calculate the calibration coefficients for a given month.\n",
    "\n",
    "    For the lusaaka_data, the columns are:\n",
    "    year, month, CCD (hours), total monthly rainfall (mm).\n",
    "\n",
    "    Inputs:\n",
    "\n",
    "    data_path = path to the data file (string)\n",
    "    month = integer value for the month of interest (1-12)\n",
    "\n",
    "    Outputs:\n",
    "\n",
    "    a0 = calibration coefficient a0 (float)\n",
    "    a1 = calibration coefficient a1 (float)\n",
    "    \n",
    "    \"\"\"\n",
    "\n",
    "    # Use the function read_in_data() to read in the data\n",
    "    input_data = read_in_data(data_path)\n",
    "\n",
    "    # Use the function extract_month() to extract the data for the month of interest\n",
    "    month_data = extract_month(input_data, month)\n",
    "\n",
    "    # Use the function calibrate_data() to calculate the calibration coefficients\n",
    "    a0, a1 = calibrate_data(month_data)\n",
    "\n",
    "    return a0, a1"
   ]
  },
  {
   "cell_type": "code",
   "execution_count": 8,
   "metadata": {},
   "outputs": [
    {
     "name": "stdout",
     "output_type": "stream",
     "text": [
      "75.82072597313831 0.4650546881575167\n"
     ]
    }
   ],
   "source": [
    "# Test the function make_monthly_calibration()\n",
    "# for the month of January (month = 1)\n",
    "a0, a1 = make_monthly_calibration('/workspaces/MTMA33_Computing/data/lusaka_ccd_gauge.txt', 1)\n",
    "\n",
    "# Print the calibration coefficients\n",
    "print(a0, a1)"
   ]
  },
  {
   "cell_type": "code",
   "execution_count": 9,
   "metadata": {},
   "outputs": [
    {
     "name": "stdout",
     "output_type": "stream",
     "text": [
      "87.19024196168046 1.1579334898825928\n"
     ]
    }
   ],
   "source": [
    "# Test the function make_monthly_calibration() for the month of December (month = 12)\n",
    "a0, a1 = make_monthly_calibration('/workspaces/MTMA33_Computing/data/lusaka_ccd_gauge.txt', 12)\n",
    "\n",
    "# Print the calibration coefficients\n",
    "print(a0, a1)"
   ]
  },
  {
   "cell_type": "code",
   "execution_count": 11,
   "metadata": {},
   "outputs": [],
   "source": [
    "# Write a second function to derive a multi-annual time series of rainfall estimates\n",
    "# for a given month, using the calibration coefficients\n",
    "# Equation: rainfall = a0 + a1 * CCD\n",
    "def calculate_monthly_rainfall(data_path, month):\n",
    "    \"\"\"\n",
    "    Function to calculate the monthly rainfall for a given month.\n",
    "\n",
    "    For the lusaaka_data, the columns are:\n",
    "    year, month, CCD (hours), total monthly rainfall (mm).\n",
    "\n",
    "    Inputs:\n",
    "\n",
    "    data_path = path to the data file (string)\n",
    "    month = integer value for the month of interest (1-12)\n",
    "\n",
    "    Outputs:\n",
    "\n",
    "    rainfall = monthly rainfall (float)\n",
    "    \n",
    "    \"\"\"\n",
    "\n",
    "    # Use the function make_monthly_calibration() to calculate the calibration coefficients\n",
    "    a0, a1 = make_monthly_calibration(data_path, month)\n",
    "\n",
    "    # Use the function read_in_data() to read in the data\n",
    "    input_data = read_in_data(data_path)\n",
    "\n",
    "    # Use the function extract_month() to extract the data for the month of interest\n",
    "    month_data = extract_month(input_data, month)\n",
    "\n",
    "    # Calculate the monthly rainfall using the calibration coefficients\n",
    "    rainfall = a0 + a1 * month_data[:, 2]\n",
    "\n",
    "    return rainfall"
   ]
  },
  {
   "cell_type": "code",
   "execution_count": 12,
   "metadata": {},
   "outputs": [
    {
     "name": "stdout",
     "output_type": "stream",
     "text": [
      "[319.50938257 233.35800159 149.35749854 210.10526718 158.94925148\n",
      " 178.71407573 258.64535026 315.61454955 277.24753778 256.08754947\n",
      " 227.83547716 167.3783677  151.97343116 188.30582867 251.66952993\n",
      " 188.30582867 273.75962762 220.27833848 226.78910412 217.77866953\n",
      " 212.54680429 251.7857936  179.00473491]\n",
      "[136.40241528 168.24558625 213.11550899 123.37566352 197.91763193\n",
      " 209.49696683 156.66625135 213.11550899 229.03709447 166.07446096\n",
      " 179.82492115 195.74650664 137.12612371 181.99604645 281.86780995\n",
      " 247.12980525 189.95683919 324.85609076 262.61716568 155.21883449\n",
      " 196.47021507 159.56108508 218.181468  ]\n",
      "[ 1.17313916  1.17313916  1.17313916  1.17313916  1.17313916  1.17313916\n",
      "  1.17313916  1.17313916  1.17313916  1.17313916  1.17313916  1.17313916\n",
      "  0.60679612  1.17313916  1.17313916  1.17313916  1.17313916 -0.24271845\n",
      "  1.17313916  1.17313916  1.17313916  1.17313916  1.17313916]\n"
     ]
    }
   ],
   "source": [
    "# Test the function calculate_monthly_rainfall()\n",
    "# for the month of January (month = 1)\n",
    "rainfall = calculate_monthly_rainfall('/workspaces/MTMA33_Computing/data/lusaka_ccd_gauge.txt', 1)\n",
    "\n",
    "# Print the monthly rainfall\n",
    "print(rainfall)\n",
    "\n",
    "# Test the function calculate_monthly_rainfall()\n",
    "# for the month of December (month = 12)\n",
    "rainfall = calculate_monthly_rainfall('/workspaces/MTMA33_Computing/data/lusaka_ccd_gauge.txt', 12)\n",
    "\n",
    "# Print the monthly rainfall\n",
    "print(rainfall)\n",
    "\n",
    "# Test the function calculate_monthly_rainfall()\n",
    "# for the month of July (month = 7)\n",
    "rainfall = calculate_monthly_rainfall('/workspaces/MTMA33_Computing/data/lusaka_ccd_gauge.txt', 7)\n",
    "\n",
    "# Print the monthly rainfall\n",
    "print(rainfall)"
   ]
  },
  {
   "cell_type": "code",
   "execution_count": null,
   "metadata": {},
   "outputs": [],
   "source": [
    "# How well do the rainfall estimates compare with the observed rainfall?\n",
    "# Use the function calculate_monthly_rainfall() to calculate the monthly rainfall for December\n",
    "july_rainfall = calculate_monthly_rainfall('/workspaces/MTMA33_Computing/data/lusaka_ccd_gauge.txt', 7)\n",
    "\n",
    "# Create a function to extract the observed rainfall for a given month\n",
    "def extract_monthly_rainfall(data_path, month):\n",
    "    \"\"\"\n",
    "    Function to extract the monthly rainfall for a given month.\n",
    "\n",
    "    For the lusaaka_data, the columns are:\n",
    "    year, month, CCD (hours), total monthly rainfall (mm).\n",
    "\n",
    "    Inputs:\n",
    "\n",
    "    data_path = path to the data file (string)\n",
    "    month = integer value for the month of interest (1-12)\n",
    "\n",
    "    Outputs:\n",
    "\n",
    "    rainfall = monthly rainfall (float)\n",
    "    \n",
    "    \"\"\"\n",
    "\n",
    "    # Use the function read_in_data() to read in the data\n",
    "    input_data = read_in_data(data_path)\n",
    "\n",
    "    # Use the function extract_month() to extract the data for the month of interest\n",
    "    month_data = extract_month(input_data, month)\n",
    "\n",
    "    # Extract the monthly rainfall\n",
    "    rainfall = month_data[:, 3]\n",
    "\n",
    "    return rainfall\n",
    "\n",
    "# Test the function extract_monthly_rainfall()\n",
    "# for the month of July (month = 7)\n",
    "obs_rainfall = extract_monthly_rainfall('/workspaces/MTMA33_Computing/data/lusaka_ccd_gauge.txt', 7)\n",
    "\n",
    "# Plots pdfs of the observed and estimated rainfall\n",
    "# for the month of July (month = 7)\n"
   ]
  }
 ],
 "metadata": {
  "kernelspec": {
   "display_name": "Python 3",
   "language": "python",
   "name": "python3"
  },
  "language_info": {
   "codemirror_mode": {
    "name": "ipython",
    "version": 3
   },
   "file_extension": ".py",
   "mimetype": "text/x-python",
   "name": "python",
   "nbconvert_exporter": "python",
   "pygments_lexer": "ipython3",
   "version": "3.10.8"
  }
 },
 "nbformat": 4,
 "nbformat_minor": 2
}
