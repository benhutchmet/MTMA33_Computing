{
 "cells": [
  {
   "cell_type": "code",
   "execution_count": 1,
   "metadata": {},
   "outputs": [],
   "source": [
    "# Import libraries\n",
    "import os\n",
    "import sys\n",
    "\n",
    "# Import third party libraries\n",
    "import numpy as np\n",
    "import matplotlib.pyplot as plt"
   ]
  },
  {
   "cell_type": "code",
   "execution_count": 2,
   "metadata": {},
   "outputs": [],
   "source": [
    "# Import functions\n",
    "sys.path.append('/workspaces/MTMA33_Computing/practical_5/scripts')\n",
    "from practical_5_functions import *"
   ]
  },
  {
   "cell_type": "code",
   "execution_count": 3,
   "metadata": {},
   "outputs": [],
   "source": [
    "# Define the path to the data\n",
    "data_path = \"/workspaces/MTMA33_Computing/practical_5/data/ghana_rainfall.txt\""
   ]
  },
  {
   "cell_type": "code",
   "execution_count": 4,
   "metadata": {},
   "outputs": [
    {
     "name": "stdout",
     "output_type": "stream",
     "text": [
      "0.11345939933259176\n"
     ]
    }
   ],
   "source": [
    "# Assess the risk of a moderate flood\n",
    "# 5-day precipitation accumulation threshold of 75 mm\n",
    "# Using the function assess_flood_risk\n",
    "flood_risk = assess_flood_risk(data_path, threshold=75)\n",
    "print(flood_risk)"
   ]
  },
  {
   "cell_type": "code",
   "execution_count": 5,
   "metadata": {},
   "outputs": [
    {
     "name": "stdout",
     "output_type": "stream",
     "text": [
      "0.03670745272525028\n"
     ]
    }
   ],
   "source": [
    "# Assess the risk of a severe flood\n",
    "# 5-day precipitation accumulation threshold of 100 mm\n",
    "# Using the function assess_flood_risk\n",
    "flood_risk = assess_flood_risk(data_path, threshold=100)\n",
    "print(flood_risk)"
   ]
  },
  {
   "cell_type": "code",
   "execution_count": 6,
   "metadata": {},
   "outputs": [
    {
     "name": "stdout",
     "output_type": "stream",
     "text": [
      "0.00778642936596218\n"
     ]
    }
   ],
   "source": [
    "# Assess the risk of a devestating flood\n",
    "# 5-day precipitation accumulation threshold of 140 mm\n",
    "# Using the function assess_flood_risk\n",
    "flood_risk = assess_flood_risk(data_path, threshold=140)\n",
    "print(flood_risk)"
   ]
  },
  {
   "cell_type": "markdown",
   "metadata": {},
   "source": [
    "Very small risk of a devestating flood - still non-zero though."
   ]
  },
  {
   "cell_type": "code",
   "execution_count": null,
   "metadata": {},
   "outputs": [],
   "source": []
  }
 ],
 "metadata": {
  "kernelspec": {
   "display_name": "Python 3",
   "language": "python",
   "name": "python3"
  },
  "language_info": {
   "codemirror_mode": {
    "name": "ipython",
    "version": 3
   },
   "file_extension": ".py",
   "mimetype": "text/x-python",
   "name": "python",
   "nbconvert_exporter": "python",
   "pygments_lexer": "ipython3",
   "version": "3.10.8"
  }
 },
 "nbformat": 4,
 "nbformat_minor": 2
}
