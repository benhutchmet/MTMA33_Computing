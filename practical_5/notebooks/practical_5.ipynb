{
 "cells": [
  {
   "cell_type": "code",
   "execution_count": null,
   "metadata": {},
   "outputs": [],
   "source": [
    "# Import third party libraries\n",
    "import numpy as np\n",
    "import matplotlib.pyplot as plt"
   ]
  },
  {
   "cell_type": "code",
   "execution_count": null,
   "metadata": {},
   "outputs": [],
   "source": [
    "# Import functions\n",
    "sys.path.append('/workspaces/MTMA33_Computing/practical_5/scripts')\n",
    "from practical_5_functions import *"
   ]
  },
  {
   "cell_type": "code",
   "execution_count": null,
   "metadata": {},
   "outputs": [],
   "source": [
    "# Define the path to the data\n",
    "data_path = \"/workspaces/MTMA33_Computing/practical_5/data/ghana_rainfall.txt\""
   ]
  },
  {
   "cell_type": "code",
   "execution_count": null,
   "metadata": {},
   "outputs": [],
   "source": [
    "# Assess the risk of a moderate flood\n",
    "# 5-day precipitation accumulation threshold of 75 mm\n",
    "# Using the function assess_flood_risk\n",
    "flood_risk = assess_flood_risk(data_path, threshold=75)\n",
    "print(flood_risk)"
   ]
  }
 ],
 "metadata": {
  "language_info": {
   "name": "python"
  }
 },
 "nbformat": 4,
 "nbformat_minor": 2
}
