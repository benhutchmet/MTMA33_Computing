{
 "cells": [
  {
   "cell_type": "code",
   "execution_count": 1,
   "metadata": {},
   "outputs": [],
   "source": [
    "# Import libraries\n",
    "import os\n",
    "import sys\n",
    "\n",
    "# Import third party libraries\n",
    "import numpy as np\n",
    "import matplotlib.pyplot as plt"
   ]
  },
  {
   "cell_type": "code",
   "execution_count": 2,
   "metadata": {},
   "outputs": [],
   "source": [
    "# Import functions\n",
    "sys.path.append('/workspaces/MTMA33_Computing/practical_5/scripts')\n",
    "from practical_5_functions import *"
   ]
  },
  {
   "cell_type": "code",
   "execution_count": 3,
   "metadata": {},
   "outputs": [],
   "source": [
    "# Define the path to the data\n",
    "data_path = \"/workspaces/MTMA33_Computing/practical_5/data/ghana_rainfall.txt\""
   ]
  },
  {
   "cell_type": "code",
   "execution_count": 4,
   "metadata": {},
   "outputs": [
    {
     "name": "stdout",
     "output_type": "stream",
     "text": [
      "0.07675194660734148\n"
     ]
    }
   ],
   "source": [
    "# Assess the risk of a moderate flood\n",
    "# 5-day precipitation accumulation threshold of 75 mm\n",
    "# Using the function assess_flood_risk\n",
    "flood_risk = assess_flood_risk(data_path, threshold=75)\n",
    "print(flood_risk)"
   ]
  },
  {
   "cell_type": "code",
   "execution_count": 5,
   "metadata": {},
   "outputs": [
    {
     "name": "stdout",
     "output_type": "stream",
     "text": [
      "0.042269187986651836\n"
     ]
    }
   ],
   "source": [
    "# Assess the risk of a severe flood\n",
    "# 5-day precipitation accumulation threshold of 100 mm\n",
    "# Using the function assess_flood_risk\n",
    "flood_risk = assess_flood_risk(data_path, threshold=100)\n",
    "print(flood_risk)"
   ]
  },
  {
   "cell_type": "code",
   "execution_count": 6,
   "metadata": {},
   "outputs": [
    {
     "name": "stdout",
     "output_type": "stream",
     "text": [
      "0.0011123470522803114\n"
     ]
    }
   ],
   "source": [
    "# Assess the risk of a devestating flood\n",
    "# 5-day precipitation accumulation threshold of 140 mm\n",
    "# Using the function assess_flood_risk\n",
    "flood_risk = assess_flood_risk(data_path, threshold=140)\n",
    "print(flood_risk)"
   ]
  },
  {
   "cell_type": "markdown",
   "metadata": {},
   "source": [
    "Very small risk of a devestating flood - still non-zero though.\n",
    "\n",
    "Use a longer time series, 1,000,00 points, to assess the flood risk."
   ]
  },
  {
   "cell_type": "code",
   "execution_count": 7,
   "metadata": {},
   "outputs": [
    {
     "name": "stdout",
     "output_type": "stream",
     "text": [
      "0.116413\n"
     ]
    }
   ],
   "source": [
    "# Using a longer time series, assess the risk of a moderate flood\n",
    "# 5-day precipitation accumulation threshold of 75 mm\n",
    "# Using the function assess_flood_risk_long\n",
    "flood_risk = assess_flood_risk_long(data_path, threshold=75)\n",
    "print(flood_risk) "
   ]
  },
  {
   "cell_type": "code",
   "execution_count": 8,
   "metadata": {},
   "outputs": [
    {
     "name": "stdout",
     "output_type": "stream",
     "text": [
      "0.035261\n"
     ]
    }
   ],
   "source": [
    "# Using a longer time series, assess the risk of a severe flood\n",
    "# 5-day precipitation accumulation threshold of 100 mm\n",
    "# Using the function assess_flood_risk_long\n",
    "flood_risk = assess_flood_risk_long(data_path, threshold=100)\n",
    "print(flood_risk)"
   ]
  },
  {
   "cell_type": "code",
   "execution_count": 9,
   "metadata": {},
   "outputs": [
    {
     "name": "stdout",
     "output_type": "stream",
     "text": [
      "0.003095\n"
     ]
    }
   ],
   "source": [
    "# Using a longer time series, assess the risk of a devestating flood\n",
    "# 5-day precipitation accumulation threshold of 140 mm\n",
    "# Using the function assess_flood_risk_long\n",
    "flood_risk = assess_flood_risk_long(data_path, threshold=140)\n",
    "print(flood_risk)"
   ]
  },
  {
   "cell_type": "markdown",
   "metadata": {},
   "source": [
    "Devestating flood is more than 2x more likely when more datapoints are used."
   ]
  },
  {
   "cell_type": "markdown",
   "metadata": {},
   "source": [
    "Using the assess_flood_risk_long function, calculate flood risk for a moderate flood threshold 20 times over, using 20 simulated time series, each randomly generated with 1200 time points, saving the results into an array.\n",
    "\n",
    "* How much does the risk vary between these 20 estimates?"
   ]
  },
  {
   "cell_type": "code",
   "execution_count": 17,
   "metadata": {},
   "outputs": [
    {
     "name": "stdout",
     "output_type": "stream",
     "text": [
      "[0.1        0.05916667 0.13       0.1175     0.11666667 0.1125\n",
      " 0.09083333 0.10333333 0.12333333 0.13916667 0.12       0.10666667\n",
      " 0.09083333 0.115      0.12666667 0.09916667 0.12166667 0.135\n",
      " 0.11083333 0.12916667]\n"
     ]
    },
    {
     "data": {
      "text/plain": [
       "(array([1., 0., 0., 2., 0., 4., 3., 4., 4., 2.]),\n",
       " array([0.05916667, 0.06716667, 0.07516667, 0.08316667, 0.09116667,\n",
       "        0.09916667, 0.10716667, 0.11516667, 0.12316667, 0.13116667,\n",
       "        0.13916667]),\n",
       " <BarContainer object of 10 artists>)"
      ]
     },
     "execution_count": 17,
     "metadata": {},
     "output_type": "execute_result"
    },
    {
     "data": {
      "image/png": "[encoded data removed]",
      "text/plain": [
       "<Figure size 640x480 with 1 Axes>"
      ]
     },
     "metadata": {},
     "output_type": "display_data"
    }
   ],
   "source": [
    "# Set up the no time points\n",
    "n_points = 1200\n",
    "\n",
    "# Set up the no. of flood risk values to be generated\n",
    "n_estimates = 20\n",
    "\n",
    "# Set up an empty array to store the flood risk values\n",
    "flood_risk_values = np.zeros(n_estimates)\n",
    "\n",
    "# Set up a loop to generate the flood risk values\n",
    "for i in range(n_estimates):\n",
    "    flood_risk_values[i] = assess_flood_risk_long(data_path, length=n_points, threshold=75)\n",
    "\n",
    "# Print the flood risk values\n",
    "print(flood_risk_values)\n",
    "\n",
    "# Plot the histogram of the flood risk values\n",
    "plt.hist(flood_risk_values, bins=10)"
   ]
  },
  {
   "cell_type": "markdown",
   "metadata": {},
   "source": [
    "* How does this risk vary for severe flood risk (threshold 100mm)?"
   ]
  },
  {
   "cell_type": "code",
   "execution_count": 18,
   "metadata": {},
   "outputs": [
    {
     "name": "stdout",
     "output_type": "stream",
     "text": [
      "[0.04       0.03333333 0.02416667 0.02333333 0.04916667 0.02833333\n",
      " 0.03416667 0.02333333 0.0375     0.03666667 0.01833333 0.0225\n",
      " 0.06666667 0.03333333 0.03416667 0.02416667 0.0375     0.03083333\n",
      " 0.04       0.0375    ]\n"
     ]
    },
    {
     "data": {
      "text/plain": [
       "(array([2., 4., 2., 8., 2., 0., 1., 0., 0., 1.]),\n",
       " array([0.01833333, 0.02316667, 0.028     , 0.03283333, 0.03766667,\n",
       "        0.0425    , 0.04733333, 0.05216667, 0.057     , 0.06183333,\n",
       "        0.06666667]),\n",
       " <BarContainer object of 10 artists>)"
      ]
     },
     "execution_count": 18,
     "metadata": {},
     "output_type": "execute_result"
    },
    {
     "data": {
      "image/png": "[encoded data removed]",
      "text/plain": [
       "<Figure size 640x480 with 1 Axes>"
      ]
     },
     "metadata": {},
     "output_type": "display_data"
    }
   ],
   "source": [
    "# Set up an empty array to store the flood risk values\n",
    "flood_risk_values = np.zeros(n_estimates)\n",
    "\n",
    "# Set up a loop to generate the flood risk values\n",
    "for i in range(n_estimates):\n",
    "    flood_risk_values[i] = assess_flood_risk_long(data_path, length=n_points, threshold=100)\n",
    "\n",
    "# Print the flood risk values\n",
    "print(flood_risk_values)\n",
    "\n",
    "# Plot the histogram of the flood risk values\n",
    "plt.hist(flood_risk_values, bins=10)"
   ]
  },
  {
   "cell_type": "markdown",
   "metadata": {},
   "source": [
    "Make a plot of threshold vs. flood risk for thresholds ranging from 75mm to 150mm, at intervals of 10mm.\n",
    "\n",
    "Repeat the process by creating 20 simulated time series for each threshold and present all of the results as point on the same plot to investigate the effects of stochastic variability."
   ]
  },
  {
   "cell_type": "code",
   "execution_count": 28,
   "metadata": {},
   "outputs": [
    {
     "name": "stderr",
     "output_type": "stream",
     "text": [
      "/tmp/ipykernel_17423/2766606764.py:34: UserWarning: marker is redundantly defined by the 'marker' keyword argument and the fmt string \"o\" (-> marker='o'). The keyword argument will take precedence.\n",
      "  plt.errorbar(thresholds, np.mean(flood_risk_values_list, axis=1), yerr=error_bars, fmt='o', marker='^', capsize=5)\n",
      "/tmp/ipykernel_17423/2766606764.py:36: UserWarning: marker is redundantly defined by the 'marker' keyword argument and the fmt string \"o\" (-> marker='o'). The keyword argument will take precedence.\n",
      "  plt.plot(thresholds, flood_risk_values_list, 'o', marker='o', color='black', alpha=0.3)\n"
     ]
    },
    {
     "data": {
      "text/plain": [
       "Text(0, 0.5, 'Flood risk')"
      ]
     },
     "execution_count": 28,
     "metadata": {},
     "output_type": "execute_result"
    },
    {
     "data": {
      "image/png": "[encoded data removed]",
      "text/plain": [
       "<Figure size 640x480 with 1 Axes>"
      ]
     },
     "metadata": {},
     "output_type": "display_data"
    }
   ],
   "source": [
    "# Initialize an empty list to store the flood risk values\n",
    "flood_risk_values_list = []\n",
    "\n",
    "# Set up the no estimates for each threshold\n",
    "n_estimates = 20\n",
    "\n",
    "# Set up the range of flood risk thresholds\n",
    "# from 75mm to 150mm in steps of 10mm\n",
    "thresholds = np.arange(75, 155, 10)\n",
    "\n",
    "# Set up a loop to generate the flood risk values\n",
    "for threshold in thresholds:\n",
    "    # Initialize an empty array to store the flood risk values\n",
    "    flood_risk_values = np.zeros(n_estimates)\n",
    "    # Set up a loop to generate the flood risk values\n",
    "    for i in range(n_estimates):\n",
    "        flood_risk_values[i] = assess_flood_risk_long(data_path, length=n_points, threshold=threshold)\n",
    "\n",
    "    # Append the flood risk values to the list\n",
    "    flood_risk_values_list.append(flood_risk_values)\n",
    "\n",
    "# print(flood_risk_values_list)\n",
    "\n",
    "# Calculate the error bars\n",
    "# based on the 5th and 95th percentiles intervals\n",
    "error_bars = np.zeros((2, len(thresholds)))\n",
    "\n",
    "# Set up a loop to calculate the error bars\n",
    "for i in range(len(thresholds)):\n",
    "    error_bars[0, i] = np.percentile(flood_risk_values_list[i], 5)\n",
    "    error_bars[1, i] = np.percentile(flood_risk_values_list[i], 95)\n",
    "\n",
    "# Plot the flood risk values and the error bars\n",
    "plt.errorbar(thresholds, np.mean(flood_risk_values_list, axis=1), yerr=error_bars, fmt='o', marker='^', capsize=5)\n",
    "# Also plot the flood risk values\n",
    "plt.plot(thresholds, flood_risk_values_list, 'o', marker='o', color='black', alpha=0.3)\n",
    "plt.xlabel('Threshold (mm)')\n",
    "plt.ylabel('Flood risk')"
   ]
  },
  {
   "cell_type": "markdown",
   "metadata": {},
   "source": [
    "* Flood risk decreases almost exponentially with increasing threshold\n",
    "\n",
    "* Standard deviation (by 5% to 95% c.i.) also decreases rapidly with increasing threshold\n",
    "    * Is this due to there being fewer records of the more extreme events?"
   ]
  }
 ],
 "metadata": {
  "kernelspec": {
   "display_name": "Python 3",
   "language": "python",
   "name": "python3"
  },
  "language_info": {
   "codemirror_mode": {
    "name": "ipython",
    "version": 3
   },
   "file_extension": ".py",
   "mimetype": "text/x-python",
   "name": "python",
   "nbconvert_exporter": "python",
   "pygments_lexer": "ipython3",
   "version": "3.10.8"
  }
 },
 "nbformat": 4,
 "nbformat_minor": 2
}
